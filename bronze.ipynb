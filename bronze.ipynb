{
 "cells": [
  {
   "cell_type": "markdown",
   "metadata": {
    "application/vnd.databricks.v1+cell": {
     "cellMetadata": {},
     "inputWidgets": {},
     "nuid": "9613f2ea-63f9-4688-8f00-93f532731a15",
     "showTitle": false,
     "title": ""
    }
   },
   "source": [
    "## **Bibliotecas**"
   ]
  },
  {
   "cell_type": "code",
   "execution_count": 0,
   "metadata": {
    "application/vnd.databricks.v1+cell": {
     "cellMetadata": {
      "byteLimit": 2048000,
      "rowLimit": 10000
     },
     "inputWidgets": {},
     "nuid": "1187c181-87db-440c-9c0a-8e1a0e6a07b8",
     "showTitle": false,
     "title": ""
    }
   },
   "outputs": [],
   "source": [
    "import requests\n",
    "import json\n",
    "from datetime import datetime"
   ]
  },
  {
   "cell_type": "markdown",
   "metadata": {
    "application/vnd.databricks.v1+cell": {
     "cellMetadata": {},
     "inputWidgets": {},
     "nuid": "f866c7dd-90ed-43ed-8acd-2a747cfac9dc",
     "showTitle": false,
     "title": ""
    }
   },
   "source": [
    "## **Funções**"
   ]
  },
  {
   "cell_type": "code",
   "execution_count": 0,
   "metadata": {
    "application/vnd.databricks.v1+cell": {
     "cellMetadata": {
      "byteLimit": 2048000,
      "rowLimit": 10000
     },
     "inputWidgets": {},
     "nuid": "ad7ac7bd-d9d9-4275-8143-5d5d5c5c0b37",
     "showTitle": false,
     "title": ""
    }
   },
   "outputs": [],
   "source": [
    "%run ./functions"
   ]
  },
  {
   "cell_type": "markdown",
   "metadata": {
    "application/vnd.databricks.v1+cell": {
     "cellMetadata": {},
     "inputWidgets": {},
     "nuid": "a92ba9b7-dd48-4160-8457-88697d37f9bd",
     "showTitle": false,
     "title": ""
    }
   },
   "source": [
    "## **Parâmetros**"
   ]
  },
  {
   "cell_type": "code",
   "execution_count": 0,
   "metadata": {
    "application/vnd.databricks.v1+cell": {
     "cellMetadata": {
      "byteLimit": 2048000,
      "rowLimit": 10000
     },
     "inputWidgets": {},
     "nuid": "2a3c209e-e614-4dab-97b6-9fc50cc8ecf6",
     "showTitle": false,
     "title": ""
    }
   },
   "outputs": [],
   "source": [
    "bronze_path = lake_path"
   ]
  },
  {
   "cell_type": "markdown",
   "metadata": {
    "application/vnd.databricks.v1+cell": {
     "cellMetadata": {},
     "inputWidgets": {},
     "nuid": "1ab37af3-6f7f-45eb-bb39-b7e6582eee15",
     "showTitle": false,
     "title": ""
    }
   },
   "source": [
    "## **Extração**"
   ]
  },
  {
   "cell_type": "code",
   "execution_count": 0,
   "metadata": {
    "application/vnd.databricks.v1+cell": {
     "cellMetadata": {
      "byteLimit": 2048000,
      "rowLimit": 10000
     },
     "inputWidgets": {},
     "nuid": "807e25f3-fe1b-4d41-8a8b-f3d6862a3a4c",
     "showTitle": false,
     "title": ""
    }
   },
   "outputs": [
    {
     "output_type": "stream",
     "name": "stdout",
     "output_type": "stream",
     "text": [
      "Total de páginas: 42\n"
     ]
    }
   ],
   "source": [
    "#Exemplo de paginação: https://api.openbrewerydb.org/breweries?page=2&per_page=10\n",
    "\n",
    "# URL da API\n",
    "breweries_url = \"https://api.openbrewerydb.org/breweries\"\n",
    "all_data = []\n",
    "\n",
    "# Parâmetros de paginação\n",
    "page = 1\n",
    "per_page = 4000  \n",
    "\n",
    "while True:\n",
    "    # Requisição com os parâmetros de paginação\n",
    "    response = requests.get(breweries_url, params={\"page\": page, \"per_page\": per_page})\n",
    "    \n",
    "    # Verifica a request\n",
    "    if response.status_code != 200:\n",
    "        print(f\"Erro na requisição: {response.status_code}\")\n",
    "        break\n",
    "    \n",
    "    # Converter para JSON\n",
    "    data = response.json()\n",
    "    \n",
    "    # Parar quando acabar os dados\n",
    "    if not data:\n",
    "        print(f\"Total de páginas: {page - 1}\")\n",
    "        break\n",
    "    \n",
    "    # Add os dados da página na lista\n",
    "    all_data.extend(data)\n",
    "    \n",
    "    # Adiciona a pr´xima página\n",
    "    page += 1"
   ]
  },
  {
   "cell_type": "code",
   "execution_count": 0,
   "metadata": {
    "application/vnd.databricks.v1+cell": {
     "cellMetadata": {
      "byteLimit": 2048000,
      "rowLimit": 10000
     },
     "inputWidgets": {},
     "nuid": "1f3296f5-f0ec-4f76-a251-28f4cc8cf656",
     "showTitle": false,
     "title": ""
    }
   },
   "outputs": [
    {
     "output_type": "stream",
     "name": "stdout",
     "output_type": "stream",
     "text": [
      "Out[31]: [{'id': '5128df48-79fc-4f0f-8b52-d06be54d0cec',\n  'name': '(405) Brewing Co',\n  'brewery_type': 'micro',\n  'address_1': '1716 Topeka St',\n  'address_2': None,\n  'address_3': None,\n  'city': 'Norman',\n  'state_province': 'Oklahoma',\n  'postal_code': '73069-8224',\n  'country': 'United States',\n  'longitude': '-97.46818222',\n  'latitude': '35.25738891',\n  'phone': '4058160490',\n  'website_url': 'http://www.405brewing.com',\n  'state': 'Oklahoma',\n  'street': '1716 Topeka St'},\n {'id': '9c5a66c8-cc13-416f-a5d9-0a769c87d318',\n  'name': '(512) Brewing Co',\n  'brewery_type': 'micro',\n  'address_1': '407 Radam Ln Ste F200',\n  'address_2': None,\n  'address_3': None,\n  'city': 'Austin',\n  'state_province': 'Texas',\n  'postal_code': '78745-1197',\n  'country': 'United States',\n  'longitude': None,\n  'latitude': None,\n  'phone': '5129211545',\n  'website_url': 'http://www.512brewing.com',\n  'state': 'Texas',\n  'street': '407 Radam Ln Ste F200'},\n {'id': '34e8c68b-6146-453f-a4b9-1f6cd99a5ada',\n  'name': '1 of Us Brewing Company',\n  'brewery_type': 'micro',\n  'address_1': '8100 Washington Ave',\n  'address_2': None,\n  'address_3': None,\n  'city': 'Mount Pleasant',\n  'state_province': 'Wisconsin',\n  'postal_code': '53406-3920',\n  'country': 'United States',\n  'longitude': '-87.88336350209435',\n  'latitude': '42.72010826899558',\n  'phone': '2624847553',\n  'website_url': 'https://www.1ofusbrewing.com',\n  'state': 'Wisconsin',\n  'street': '8100 Washington Ave'},\n {'id': 'ef970757-fe42-416f-931d-722451f1f59c',\n  'name': '10 Barrel Brewing Co',\n  'brewery_type': 'large',\n  'address_1': '1501 E St',\n  'address_2': None,\n  'address_3': None,\n  'city': 'San Diego',\n  'state_province': 'California',\n  'postal_code': '92101-6618',\n  'country': 'United States',\n  'longitude': '-117.129593',\n  'latitude': '32.714813',\n  'phone': '6195782311',\n  'website_url': 'http://10barrel.com',\n  'state': 'California',\n  'street': '1501 E St'}]"
     ]
    }
   ],
   "source": [
    "all_data[0:4]"
   ]
  },
  {
   "cell_type": "code",
   "execution_count": 0,
   "metadata": {
    "application/vnd.databricks.v1+cell": {
     "cellMetadata": {
      "byteLimit": 2048000,
      "rowLimit": 10000
     },
     "inputWidgets": {},
     "nuid": "254dfceb-53d7-43de-b6a4-8f76e03e6891",
     "showTitle": false,
     "title": ""
    }
   },
   "outputs": [],
   "source": [
    "# Criação do Dataframe e da Columa Timestamp\n",
    "df_breweries = (spark.createDataFrame(all_data).withColumn('tmstp_ingestion', lit(datetime.now())))"
   ]
  },
  {
   "cell_type": "code",
   "execution_count": 0,
   "metadata": {
    "application/vnd.databricks.v1+cell": {
     "cellMetadata": {
      "byteLimit": 2048000,
      "rowLimit": 10000
     },
     "inputWidgets": {},
     "nuid": "5c4e720c-47eb-4519-8083-db52d7457fc5",
     "showTitle": false,
     "title": ""
    }
   },
   "outputs": [
    {
     "output_type": "display_data",
     "data": {
      "text/html": [
       "<style scoped>\n",
       "  .table-result-container {\n",
       "    max-height: 300px;\n",
       "    overflow: auto;\n",
       "  }\n",
       "  table, th, td {\n",
       "    border: 1px solid black;\n",
       "    border-collapse: collapse;\n",
       "  }\n",
       "  th, td {\n",
       "    padding: 5px;\n",
       "  }\n",
       "  th {\n",
       "    text-align: left;\n",
       "  }\n",
       "</style><div class='table-result-container'><table class='table-result'><thead style='background-color: white'><tr><th>address_1</th><th>address_2</th><th>address_3</th><th>brewery_type</th><th>city</th><th>country</th><th>id</th><th>latitude</th><th>longitude</th><th>name</th><th>phone</th><th>postal_code</th><th>state</th><th>state_province</th><th>street</th><th>website_url</th><th>tmstp_ingestion</th></tr></thead><tbody><tr><td>1716 Topeka St</td><td>null</td><td>null</td><td>micro</td><td>Norman</td><td>United States</td><td>5128df48-79fc-4f0f-8b52-d06be54d0cec</td><td>35.25738891</td><td>-97.46818222</td><td>(405) Brewing Co</td><td>4058160490</td><td>73069-8224</td><td>Oklahoma</td><td>Oklahoma</td><td>1716 Topeka St</td><td>http://www.405brewing.com</td><td>2024-09-26T20:39:35.532+0000</td></tr><tr><td>407 Radam Ln Ste F200</td><td>null</td><td>null</td><td>micro</td><td>Austin</td><td>United States</td><td>9c5a66c8-cc13-416f-a5d9-0a769c87d318</td><td>null</td><td>null</td><td>(512) Brewing Co</td><td>5129211545</td><td>78745-1197</td><td>Texas</td><td>Texas</td><td>407 Radam Ln Ste F200</td><td>http://www.512brewing.com</td><td>2024-09-26T20:39:35.532+0000</td></tr><tr><td>8100 Washington Ave</td><td>null</td><td>null</td><td>micro</td><td>Mount Pleasant</td><td>United States</td><td>34e8c68b-6146-453f-a4b9-1f6cd99a5ada</td><td>42.72010826899558</td><td>-87.88336350209435</td><td>1 of Us Brewing Company</td><td>2624847553</td><td>53406-3920</td><td>Wisconsin</td><td>Wisconsin</td><td>8100 Washington Ave</td><td>https://www.1ofusbrewing.com</td><td>2024-09-26T20:39:35.532+0000</td></tr><tr><td>1501 E St</td><td>null</td><td>null</td><td>large</td><td>San Diego</td><td>United States</td><td>ef970757-fe42-416f-931d-722451f1f59c</td><td>32.714813</td><td>-117.129593</td><td>10 Barrel Brewing Co</td><td>6195782311</td><td>92101-6618</td><td>California</td><td>California</td><td>1501 E St</td><td>http://10barrel.com</td><td>2024-09-26T20:39:35.532+0000</td></tr><tr><td>62970 18th St</td><td>null</td><td>null</td><td>large</td><td>Bend</td><td>United States</td><td>6d14b220-8926-4521-8d19-b98a2d6ec3db</td><td>44.08683531</td><td>-121.281706</td><td>10 Barrel Brewing Co</td><td>5415851007</td><td>97701-9847</td><td>Oregon</td><td>Oregon</td><td>62970 18th St</td><td>http://www.10barrel.com</td><td>2024-09-26T20:39:35.532+0000</td></tr></tbody></table></div>"
      ]
     },
     "metadata": {
      "application/vnd.databricks.v1+output": {
       "addedWidgets": {},
       "aggData": [],
       "aggError": "",
       "aggOverflow": false,
       "aggSchema": [],
       "aggSeriesLimitReached": false,
       "aggType": "",
       "arguments": {},
       "columnCustomDisplayInfos": {},
       "data": [
        [
         "1716 Topeka St",
         null,
         null,
         "micro",
         "Norman",
         "United States",
         "5128df48-79fc-4f0f-8b52-d06be54d0cec",
         "35.25738891",
         "-97.46818222",
         "(405) Brewing Co",
         "4058160490",
         "73069-8224",
         "Oklahoma",
         "Oklahoma",
         "1716 Topeka St",
         "http://www.405brewing.com",
         "2024-09-26T20:39:35.532+0000"
        ],
        [
         "407 Radam Ln Ste F200",
         null,
         null,
         "micro",
         "Austin",
         "United States",
         "9c5a66c8-cc13-416f-a5d9-0a769c87d318",
         null,
         null,
         "(512) Brewing Co",
         "5129211545",
         "78745-1197",
         "Texas",
         "Texas",
         "407 Radam Ln Ste F200",
         "http://www.512brewing.com",
         "2024-09-26T20:39:35.532+0000"
        ],
        [
         "8100 Washington Ave",
         null,
         null,
         "micro",
         "Mount Pleasant",
         "United States",
         "34e8c68b-6146-453f-a4b9-1f6cd99a5ada",
         "42.72010826899558",
         "-87.88336350209435",
         "1 of Us Brewing Company",
         "2624847553",
         "53406-3920",
         "Wisconsin",
         "Wisconsin",
         "8100 Washington Ave",
         "https://www.1ofusbrewing.com",
         "2024-09-26T20:39:35.532+0000"
        ],
        [
         "1501 E St",
         null,
         null,
         "large",
         "San Diego",
         "United States",
         "ef970757-fe42-416f-931d-722451f1f59c",
         "32.714813",
         "-117.129593",
         "10 Barrel Brewing Co",
         "6195782311",
         "92101-6618",
         "California",
         "California",
         "1501 E St",
         "http://10barrel.com",
         "2024-09-26T20:39:35.532+0000"
        ],
        [
         "62970 18th St",
         null,
         null,
         "large",
         "Bend",
         "United States",
         "6d14b220-8926-4521-8d19-b98a2d6ec3db",
         "44.08683531",
         "-121.281706",
         "10 Barrel Brewing Co",
         "5415851007",
         "97701-9847",
         "Oregon",
         "Oregon",
         "62970 18th St",
         "http://www.10barrel.com",
         "2024-09-26T20:39:35.532+0000"
        ]
       ],
       "datasetInfos": [],
       "dbfsResultPath": null,
       "isJsonSchema": true,
       "metadata": {},
       "overflow": false,
       "plotOptions": {
        "customPlotOptions": {},
        "displayType": "table",
        "pivotAggregation": null,
        "pivotColumns": null,
        "xColumns": null,
        "yColumns": null
       },
       "removedWidgets": [],
       "schema": [
        {
         "metadata": "{}",
         "name": "address_1",
         "type": "\"string\""
        },
        {
         "metadata": "{}",
         "name": "address_2",
         "type": "\"string\""
        },
        {
         "metadata": "{}",
         "name": "address_3",
         "type": "\"string\""
        },
        {
         "metadata": "{}",
         "name": "brewery_type",
         "type": "\"string\""
        },
        {
         "metadata": "{}",
         "name": "city",
         "type": "\"string\""
        },
        {
         "metadata": "{}",
         "name": "country",
         "type": "\"string\""
        },
        {
         "metadata": "{}",
         "name": "id",
         "type": "\"string\""
        },
        {
         "metadata": "{}",
         "name": "latitude",
         "type": "\"string\""
        },
        {
         "metadata": "{}",
         "name": "longitude",
         "type": "\"string\""
        },
        {
         "metadata": "{}",
         "name": "name",
         "type": "\"string\""
        },
        {
         "metadata": "{}",
         "name": "phone",
         "type": "\"string\""
        },
        {
         "metadata": "{}",
         "name": "postal_code",
         "type": "\"string\""
        },
        {
         "metadata": "{}",
         "name": "state",
         "type": "\"string\""
        },
        {
         "metadata": "{}",
         "name": "state_province",
         "type": "\"string\""
        },
        {
         "metadata": "{}",
         "name": "street",
         "type": "\"string\""
        },
        {
         "metadata": "{}",
         "name": "website_url",
         "type": "\"string\""
        },
        {
         "metadata": "{}",
         "name": "tmstp_ingestion",
         "type": "\"timestamp\""
        }
       ],
       "type": "table"
      }
     },
     "output_type": "display_data"
    }
   ],
   "source": [
    "display(df_breweries.limit(5))"
   ]
  },
  {
   "cell_type": "code",
   "execution_count": 0,
   "metadata": {
    "application/vnd.databricks.v1+cell": {
     "cellMetadata": {
      "byteLimit": 2048000,
      "rowLimit": 10000
     },
     "inputWidgets": {},
     "nuid": "39f1dd00-80c5-4688-a43b-cb8d87ce5b48",
     "showTitle": false,
     "title": ""
    }
   },
   "outputs": [],
   "source": [
    "# Salvar na Bronze\n",
    "(df_breweries.write.format(\"delta\").mode(\"overwrite\").option(\"overwriteSchema\", \"true\").save(f'{bronze_path}/bronze/tb_bronze_breweries'))"
   ]
  }
 ],
 "metadata": {
  "application/vnd.databricks.v1+notebook": {
   "dashboards": [],
   "environmentMetadata": null,
   "language": "python",
   "notebookMetadata": {
    "pythonIndentUnit": 4
   },
   "notebookName": "bronze",
   "widgets": {}
  }
 },
 "nbformat": 4,
 "nbformat_minor": 0
}
