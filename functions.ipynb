{
 "cells": [
  {
   "cell_type": "code",
   "execution_count": 0,
   "metadata": {
    "application/vnd.databricks.v1+cell": {
     "cellMetadata": {},
     "inputWidgets": {},
     "nuid": "8fecc3c6-40b1-41f6-b4f4-396432297bb7",
     "showTitle": false,
     "title": ""
    }
   },
   "outputs": [],
   "source": [
    "from pyspark.sql.functions import *\n",
    "from pyspark.sql.types import *"
   ]
  },
  {
   "cell_type": "code",
   "execution_count": 0,
   "metadata": {
    "application/vnd.databricks.v1+cell": {
     "cellMetadata": {},
     "inputWidgets": {},
     "nuid": "e7f1120a-53c6-44cc-b23c-417eb1af194f",
     "showTitle": false,
     "title": ""
    }
   },
   "outputs": [],
   "source": [
    "#Função para retornar valores das colunas concatenados para construção da chave única\n",
    "@udf(returnType=StringType())\n",
    "def unq_id(columns_list):\n",
    "    return \"\".join([str(c) for c in columns_list])\n",
    "\n",
    "# FUNÇÃO QUE GERA A CHAVE\n",
    "def unique_key_gen(dataframe, columns_list: list):\n",
    "    return dataframe.withColumn('chave', unq_id(array(columns_list))).withColumn('chave', regexp_replace(col('chave'), \" \", \"\"))"
   ]
  },
  {
   "cell_type": "code",
   "execution_count": 0,
   "metadata": {
    "application/vnd.databricks.v1+cell": {
     "cellMetadata": {},
     "inputWidgets": {},
     "nuid": "8829e677-3df7-4c75-b9e3-b1a73df6df1f",
     "showTitle": false,
     "title": ""
    }
   },
   "outputs": [],
   "source": [
    "# Função que faz a verificação de chaves duplicadas\n",
    "def key_validation(dataframe, chave):\n",
    "    indicador = dataframe.select(chave).groupBy(chave).agg(count(\"*\").alias(\"contagem\")).filter('contagem > 1').count()\n",
    "    if(indicador != 0 ):\n",
    "        raise Exception(\"INDICATOR KEY ARE NOT UNIQUE FOR MERGE OPERATION\")\n",
    "    else:\n",
    "        pass"
   ]
  },
  {
   "cell_type": "code",
   "execution_count": 0,
   "metadata": {
    "application/vnd.databricks.v1+cell": {
     "cellMetadata": {},
     "inputWidgets": {},
     "nuid": "be0f4b52-a9d8-4bd6-a3ca-3f9ea647768c",
     "showTitle": false,
     "title": ""
    }
   },
   "outputs": [],
   "source": [
    "lake_path = 'define'"
   ]
  }
 ],
 "metadata": {
  "application/vnd.databricks.v1+notebook": {
   "dashboards": [],
   "environmentMetadata": null,
   "language": "python",
   "notebookMetadata": {
    "pythonIndentUnit": 4
   },
   "notebookName": "functions",
   "widgets": {}
  }
 },
 "nbformat": 4,
 "nbformat_minor": 0
}
