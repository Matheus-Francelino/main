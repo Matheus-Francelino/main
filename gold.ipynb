{
 "cells": [
  {
   "cell_type": "markdown",
   "metadata": {
    "application/vnd.databricks.v1+cell": {
     "cellMetadata": {},
     "inputWidgets": {},
     "nuid": "23d28a50-d8cc-44b3-8435-f0d3480d1421",
     "showTitle": false,
     "title": ""
    }
   },
   "source": [
    "## **Bibliotecas**"
   ]
  },
  {
   "cell_type": "code",
   "execution_count": 0,
   "metadata": {
    "application/vnd.databricks.v1+cell": {
     "cellMetadata": {
      "byteLimit": 2048000,
      "rowLimit": 10000
     },
     "inputWidgets": {},
     "nuid": "be47455d-2ae6-4312-9222-04fdc5dfe1fb",
     "showTitle": false,
     "title": ""
    }
   },
   "outputs": [],
   "source": [
    "from pyspark.sql.functions import *\n",
    "from pyspark.sql.types import *"
   ]
  },
  {
   "cell_type": "markdown",
   "metadata": {
    "application/vnd.databricks.v1+cell": {
     "cellMetadata": {},
     "inputWidgets": {},
     "nuid": "4faf23ad-a982-48bf-a2c6-c03a4df2e48b",
     "showTitle": false,
     "title": ""
    }
   },
   "source": [
    "## **Funções**"
   ]
  },
  {
   "cell_type": "code",
   "execution_count": 0,
   "metadata": {
    "application/vnd.databricks.v1+cell": {
     "cellMetadata": {
      "byteLimit": 2048000,
      "rowLimit": 10000
     },
     "inputWidgets": {},
     "nuid": "0396d26e-daad-4bab-9514-8d754a9ceceb",
     "showTitle": false,
     "title": ""
    }
   },
   "outputs": [],
   "source": [
    "%run ./functions"
   ]
  },
  {
   "cell_type": "markdown",
   "metadata": {
    "application/vnd.databricks.v1+cell": {
     "cellMetadata": {},
     "inputWidgets": {},
     "nuid": "7a58f080-8ac8-45e4-9517-702d15a8c594",
     "showTitle": false,
     "title": ""
    }
   },
   "source": [
    "## **Parâmetros**"
   ]
  },
  {
   "cell_type": "code",
   "execution_count": 0,
   "metadata": {
    "application/vnd.databricks.v1+cell": {
     "cellMetadata": {
      "byteLimit": 2048000,
      "rowLimit": 10000
     },
     "inputWidgets": {},
     "nuid": "c6f8ba96-1392-4ab9-9dfd-4d45b8c0506b",
     "showTitle": false,
     "title": ""
    }
   },
   "outputs": [],
   "source": [
    "silver_path = f'{lake_path}/silver/tb_silver_breweries'"
   ]
  },
  {
   "cell_type": "markdown",
   "metadata": {
    "application/vnd.databricks.v1+cell": {
     "cellMetadata": {},
     "inputWidgets": {},
     "nuid": "02122804-1eb6-48ef-a53c-bf126550a5b3",
     "showTitle": false,
     "title": ""
    }
   },
   "source": [
    "## **Tratamento**"
   ]
  },
  {
   "cell_type": "code",
   "execution_count": 0,
   "metadata": {
    "application/vnd.databricks.v1+cell": {
     "cellMetadata": {
      "byteLimit": 2048000,
      "rowLimit": 10000
     },
     "inputWidgets": {},
     "nuid": "628b0039-f846-4860-b4ee-964fe41460e0",
     "showTitle": false,
     "title": ""
    }
   },
   "outputs": [],
   "source": [
    "# Leitura da Tabela Silver\n",
    "df_breweries = (spark.read.format('delta').load(silver_path))"
   ]
  },
  {
   "cell_type": "markdown",
   "metadata": {
    "application/vnd.databricks.v1+cell": {
     "cellMetadata": {},
     "inputWidgets": {},
     "nuid": "6071fc8d-ad38-4964-bed6-cf26aa24816a",
     "showTitle": false,
     "title": ""
    }
   },
   "source": [
    "## **Agregação**"
   ]
  },
  {
   "cell_type": "code",
   "execution_count": 0,
   "metadata": {
    "application/vnd.databricks.v1+cell": {
     "cellMetadata": {
      "byteLimit": 2048000,
      "rowLimit": 10000
     },
     "inputWidgets": {},
     "nuid": "fb492190-1495-4142-9ff8-e1a5fd84a10c",
     "showTitle": false,
     "title": ""
    }
   },
   "outputs": [],
   "source": [
    "# Create an aggregated view with the quantity of breweries per type and location\n",
    "df_breweries_agg = df_breweries.groupBy('country', 'brewery_type').agg(sum(lit(1)).alias('breweries_quantity'))"
   ]
  },
  {
   "cell_type": "code",
   "execution_count": 0,
   "metadata": {
    "application/vnd.databricks.v1+cell": {
     "cellMetadata": {
      "byteLimit": 2048000,
      "rowLimit": 10000
     },
     "inputWidgets": {},
     "nuid": "10f64f90-fc44-4df0-ad76-8b5d708bd2b4",
     "showTitle": false,
     "title": ""
    }
   },
   "outputs": [],
   "source": [
    "# COLUNAS QUE GERAM A CHAVE ÚNICA (Utilizada na função \"unique_key_gen\" com o método transform)\n",
    "unique_key_cols = ['country', 'brewery_type']\n",
    "\n",
    "df_breweries_key = (df_breweries_agg\n",
    "    .transform(unique_key_gen, unique_key_cols))\n",
    "\n",
    "# VALIDAÇÃO DA UNICIDADE DAS CHAVES\n",
    "key_validation(dataframe=df_breweries_key, chave='chave')\n",
    "df_breweries_final = (df_breweries_key.drop('chave'))"
   ]
  },
  {
   "cell_type": "code",
   "execution_count": 0,
   "metadata": {
    "application/vnd.databricks.v1+cell": {
     "cellMetadata": {
      "byteLimit": 2048000,
      "rowLimit": 10000
     },
     "inputWidgets": {},
     "nuid": "72874f6c-de58-4438-a18f-f8a44dd750ba",
     "showTitle": false,
     "title": ""
    }
   },
   "outputs": [
    {
     "output_type": "display_data",
     "data": {
      "text/html": [
       "<style scoped>\n",
       "  .table-result-container {\n",
       "    max-height: 300px;\n",
       "    overflow: auto;\n",
       "  }\n",
       "  table, th, td {\n",
       "    border: 1px solid black;\n",
       "    border-collapse: collapse;\n",
       "  }\n",
       "  th, td {\n",
       "    padding: 5px;\n",
       "  }\n",
       "  th {\n",
       "    text-align: left;\n",
       "  }\n",
       "</style><div class='table-result-container'><table class='table-result'><thead style='background-color: white'><tr><th>country</th><th>brewery_type</th><th>breweries_quantity</th><th>chave</th></tr></thead><tbody><tr><td>Austria</td><td>brewpub</td><td>1</td><td>Austriabrewpub</td></tr><tr><td>Austria</td><td>nano</td><td>2</td><td>Austrianano</td></tr><tr><td>Austria</td><td>large</td><td>9</td><td>Austrialarge</td></tr><tr><td>Austria</td><td>bar</td><td>2</td><td>Austriabar</td></tr><tr><td>South Korea</td><td>micro</td><td>5</td><td>SouthKoreamicro</td></tr><tr><td>South Korea</td><td>brewpub</td><td>56</td><td>SouthKoreabrewpub</td></tr><tr><td>England</td><td>large</td><td>1</td><td>Englandlarge</td></tr><tr><td>England</td><td>taproom</td><td>11</td><td>Englandtaproom</td></tr><tr><td>England</td><td>micro</td><td>40</td><td>Englandmicro</td></tr><tr><td>England</td><td>brewpub</td><td>10</td><td>Englandbrewpub</td></tr><tr><td>Germany</td><td>large</td><td>2</td><td>Germanylarge</td></tr><tr><td>Germany</td><td>bar</td><td>5</td><td>Germanybar</td></tr><tr><td>Germany</td><td>beergarden</td><td>3</td><td>Germanybeergarden</td></tr><tr><td>Poland</td><td>brewpub</td><td>11</td><td>Polandbrewpub</td></tr><tr><td>Poland</td><td>micro</td><td>20</td><td>Polandmicro</td></tr><tr><td>Poland</td><td>regional</td><td>3</td><td>Polandregional</td></tr><tr><td>France</td><td>micro</td><td>3</td><td>Francemicro</td></tr><tr><td>Ireland</td><td>brewpub</td><td>9</td><td>Irelandbrewpub</td></tr><tr><td>Ireland</td><td>large</td><td>3</td><td>Irelandlarge</td></tr><tr><td>Ireland</td><td>regional</td><td>9</td><td>Irelandregional</td></tr><tr><td>Ireland</td><td>micro</td><td>49</td><td>Irelandmicro</td></tr><tr><td>United States</td><td>micro</td><td>4149</td><td>UnitedStatesmicro</td></tr><tr><td>United States</td><td>nano</td><td>10</td><td>UnitedStatesnano</td></tr><tr><td>United States</td><td>bar</td><td>2</td><td>UnitedStatesbar</td></tr><tr><td>United States</td><td>contract</td><td>193</td><td>UnitedStatescontract</td></tr><tr><td>United States</td><td>brewpub</td><td>2399</td><td>UnitedStatesbrewpub</td></tr><tr><td>United States</td><td>location</td><td>1</td><td>UnitedStateslocation</td></tr><tr><td>United States</td><td>planning</td><td>687</td><td>UnitedStatesplanning</td></tr><tr><td>United States</td><td>closed</td><td>201</td><td>UnitedStatesclosed</td></tr><tr><td>United States</td><td>large</td><td>74</td><td>UnitedStateslarge</td></tr><tr><td>United States</td><td>proprietor</td><td>69</td><td>UnitedStatesproprietor</td></tr><tr><td>United States</td><td>taproom</td><td>1</td><td>UnitedStatestaproom</td></tr><tr><td>United States</td><td>regional</td><td>213</td><td>UnitedStatesregional</td></tr><tr><td>Isle of Man</td><td>micro</td><td>2</td><td>IsleofManmicro</td></tr><tr><td>Scotland</td><td>micro</td><td>9</td><td>Scotlandmicro</td></tr><tr><td>Scotland</td><td>closed</td><td>1</td><td>Scotlandclosed</td></tr><tr><td>Singapore</td><td>bar</td><td>28</td><td>Singaporebar</td></tr><tr><td>Singapore</td><td>brewpub</td><td>4</td><td>Singaporebrewpub</td></tr><tr><td>Singapore</td><td>large</td><td>1</td><td>Singaporelarge</td></tr><tr><td>Portugal</td><td>brewpub</td><td>7</td><td>Portugalbrewpub</td></tr><tr><td>Portugal</td><td>micro</td><td>7</td><td>Portugalmicro</td></tr><tr><td>Sweden</td><td>micro</td><td>6</td><td>Swedenmicro</td></tr></tbody></table></div>"
      ]
     },
     "metadata": {
      "application/vnd.databricks.v1+output": {
       "addedWidgets": {},
       "aggData": [],
       "aggError": "",
       "aggOverflow": false,
       "aggSchema": [],
       "aggSeriesLimitReached": false,
       "aggType": "",
       "arguments": {},
       "columnCustomDisplayInfos": {},
       "data": [
        [
         "Austria",
         "brewpub",
         1,
         "Austriabrewpub"
        ],
        [
         "Austria",
         "nano",
         2,
         "Austrianano"
        ],
        [
         "Austria",
         "large",
         9,
         "Austrialarge"
        ],
        [
         "Austria",
         "bar",
         2,
         "Austriabar"
        ],
        [
         "South Korea",
         "micro",
         5,
         "SouthKoreamicro"
        ],
        [
         "South Korea",
         "brewpub",
         56,
         "SouthKoreabrewpub"
        ],
        [
         "England",
         "large",
         1,
         "Englandlarge"
        ],
        [
         "England",
         "taproom",
         11,
         "Englandtaproom"
        ],
        [
         "England",
         "micro",
         40,
         "Englandmicro"
        ],
        [
         "England",
         "brewpub",
         10,
         "Englandbrewpub"
        ],
        [
         "Germany",
         "large",
         2,
         "Germanylarge"
        ],
        [
         "Germany",
         "bar",
         5,
         "Germanybar"
        ],
        [
         "Germany",
         "beergarden",
         3,
         "Germanybeergarden"
        ],
        [
         "Poland",
         "brewpub",
         11,
         "Polandbrewpub"
        ],
        [
         "Poland",
         "micro",
         20,
         "Polandmicro"
        ],
        [
         "Poland",
         "regional",
         3,
         "Polandregional"
        ],
        [
         "France",
         "micro",
         3,
         "Francemicro"
        ],
        [
         "Ireland",
         "brewpub",
         9,
         "Irelandbrewpub"
        ],
        [
         "Ireland",
         "large",
         3,
         "Irelandlarge"
        ],
        [
         "Ireland",
         "regional",
         9,
         "Irelandregional"
        ],
        [
         "Ireland",
         "micro",
         49,
         "Irelandmicro"
        ],
        [
         "United States",
         "micro",
         4149,
         "UnitedStatesmicro"
        ],
        [
         "United States",
         "nano",
         10,
         "UnitedStatesnano"
        ],
        [
         "United States",
         "bar",
         2,
         "UnitedStatesbar"
        ],
        [
         "United States",
         "contract",
         193,
         "UnitedStatescontract"
        ],
        [
         "United States",
         "brewpub",
         2399,
         "UnitedStatesbrewpub"
        ],
        [
         "United States",
         "location",
         1,
         "UnitedStateslocation"
        ],
        [
         "United States",
         "planning",
         687,
         "UnitedStatesplanning"
        ],
        [
         "United States",
         "closed",
         201,
         "UnitedStatesclosed"
        ],
        [
         "United States",
         "large",
         74,
         "UnitedStateslarge"
        ],
        [
         "United States",
         "proprietor",
         69,
         "UnitedStatesproprietor"
        ],
        [
         "United States",
         "taproom",
         1,
         "UnitedStatestaproom"
        ],
        [
         "United States",
         "regional",
         213,
         "UnitedStatesregional"
        ],
        [
         "Isle of Man",
         "micro",
         2,
         "IsleofManmicro"
        ],
        [
         "Scotland",
         "micro",
         9,
         "Scotlandmicro"
        ],
        [
         "Scotland",
         "closed",
         1,
         "Scotlandclosed"
        ],
        [
         "Singapore",
         "bar",
         28,
         "Singaporebar"
        ],
        [
         "Singapore",
         "brewpub",
         4,
         "Singaporebrewpub"
        ],
        [
         "Singapore",
         "large",
         1,
         "Singaporelarge"
        ],
        [
         "Portugal",
         "brewpub",
         7,
         "Portugalbrewpub"
        ],
        [
         "Portugal",
         "micro",
         7,
         "Portugalmicro"
        ],
        [
         "Sweden",
         "micro",
         6,
         "Swedenmicro"
        ]
       ],
       "datasetInfos": [],
       "dbfsResultPath": null,
       "isJsonSchema": true,
       "metadata": {},
       "overflow": false,
       "plotOptions": {
        "customPlotOptions": {},
        "displayType": "table",
        "pivotAggregation": null,
        "pivotColumns": null,
        "xColumns": null,
        "yColumns": null
       },
       "removedWidgets": [],
       "schema": [
        {
         "metadata": "{\"comment\":\"país\"}",
         "name": "country",
         "type": "\"string\""
        },
        {
         "metadata": "{\"comment\":\"tipo de cervejaria\"}",
         "name": "brewery_type",
         "type": "\"string\""
        },
        {
         "metadata": "{}",
         "name": "breweries_quantity",
         "type": "\"long\""
        },
        {
         "metadata": "{}",
         "name": "chave",
         "type": "\"string\""
        }
       ],
       "type": "table"
      }
     },
     "output_type": "display_data"
    }
   ],
   "source": [
    "df_breweries_key.display()"
   ]
  },
  {
   "cell_type": "markdown",
   "metadata": {
    "application/vnd.databricks.v1+cell": {
     "cellMetadata": {},
     "inputWidgets": {},
     "nuid": "9a5b370d-9f84-4968-a105-4a03701cd716",
     "showTitle": false,
     "title": ""
    }
   },
   "source": [
    "## **Visualização da Agregação**"
   ]
  },
  {
   "cell_type": "code",
   "execution_count": 0,
   "metadata": {
    "application/vnd.databricks.v1+cell": {
     "cellMetadata": {
      "byteLimit": 2048000,
      "rowLimit": 10000
     },
     "inputWidgets": {},
     "nuid": "665de0fd-f956-472b-8833-762b745bbfeb",
     "showTitle": false,
     "title": ""
    }
   },
   "outputs": [
    {
     "output_type": "display_data",
     "data": {
      "image/png": "[encoded data removed]"
     },
     "metadata": {
      "application/vnd.databricks.v1+output": {
       "addedWidgets": {},
       "arguments": {},
       "data": "data:image/png;base64,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\n",
       "datasetInfos": [],
       "metadata": {},
       "removedWidgets": [],
       "type": "image"
      }
     },
     "output_type": "display_data"
    }
   ],
   "source": [
    "import matplotlib.pyplot as plt\n",
    "import pandas as pd\n",
    "\n",
    "# Convertendo o DataFrame do PySpark para um DataFrame do Pandas\n",
    "df_pandas = df_breweries_final.toPandas()\n",
    "\n",
    "# Criando um gráfico de barras\n",
    "plt.figure(figsize=(30, 12))\n",
    "\n",
    "# Usando um gráfico de barras agrupadas - O loop itera sobre cada tipo de cervejaria e plota a quantidade de cervejarias por país.\n",
    "for brewery_type in df_pandas['brewery_type'].unique():\n",
    "    subset = df_pandas[df_pandas['brewery_type'] == brewery_type]\n",
    "    plt.bar(subset['country'], subset['breweries_quantity'], label=brewery_type)\n",
    "\n",
    "# Configurando o gráfico\n",
    "plt.title('Quantidade de Cervejarias por Tipo e País')\n",
    "plt.xlabel('País')\n",
    "plt.ylabel('Quantidade de Cervejarias')\n",
    "plt.xticks(rotation=45)\n",
    "plt.legend(title='Tipo de Cervejaria')\n",
    "plt.show()"
   ]
  },
  {
   "cell_type": "markdown",
   "metadata": {
    "application/vnd.databricks.v1+cell": {
     "cellMetadata": {},
     "inputWidgets": {},
     "nuid": "8b43c127-76cf-4728-96fe-b21d9188dd26",
     "showTitle": false,
     "title": ""
    }
   },
   "source": [
    "## **Upsert na Tabela**"
   ]
  },
  {
   "cell_type": "code",
   "execution_count": 0,
   "metadata": {
    "application/vnd.databricks.v1+cell": {
     "cellMetadata": {
      "byteLimit": 2048000,
      "rowLimit": 10000
     },
     "inputWidgets": {},
     "nuid": "ff829782-3d5b-450e-b72e-9d44b9971c24",
     "showTitle": false,
     "title": ""
    }
   },
   "outputs": [],
   "source": [
    "# Criação da Temp View para Upsert\n",
    "df_breweries_final.createOrReplaceTempView('view_breweries_agg')"
   ]
  },
  {
   "cell_type": "code",
   "execution_count": 0,
   "metadata": {
    "application/vnd.databricks.v1+cell": {
     "cellMetadata": {
      "byteLimit": 2048000,
      "implicitDf": true,
      "rowLimit": 10000
     },
     "inputWidgets": {},
     "nuid": "2301a204-e2ba-452c-b46a-90f7e058d604",
     "showTitle": false,
     "title": ""
    }
   },
   "outputs": [
    {
     "output_type": "display_data",
     "data": {
      "text/html": [
       "<style scoped>\n",
       "  .table-result-container {\n",
       "    max-height: 300px;\n",
       "    overflow: auto;\n",
       "  }\n",
       "  table, th, td {\n",
       "    border: 1px solid black;\n",
       "    border-collapse: collapse;\n",
       "  }\n",
       "  th, td {\n",
       "    padding: 5px;\n",
       "  }\n",
       "  th {\n",
       "    text-align: left;\n",
       "  }\n",
       "</style><div class='table-result-container'><table class='table-result'><thead style='background-color: white'><tr><th>country</th><th>brewery_type</th><th>breweries_quantity</th></tr></thead><tbody><tr><td>South Korea</td><td>micro</td><td>5</td></tr><tr><td>South Korea</td><td>brewpub</td><td>56</td></tr><tr><td>Sweden</td><td>micro</td><td>6</td></tr><tr><td>England</td><td>large</td><td>1</td></tr><tr><td>England</td><td>taproom</td><td>11</td></tr><tr><td>England</td><td>micro</td><td>40</td></tr><tr><td>England</td><td>brewpub</td><td>10</td></tr><tr><td>France</td><td>micro</td><td>3</td></tr><tr><td>Portugal</td><td>brewpub</td><td>7</td></tr><tr><td>Portugal</td><td>micro</td><td>7</td></tr><tr><td>Ireland</td><td>brewpub</td><td>9</td></tr><tr><td>Ireland</td><td>large</td><td>3</td></tr><tr><td>Ireland</td><td>regional</td><td>9</td></tr><tr><td>Ireland</td><td>micro</td><td>49</td></tr><tr><td>Germany</td><td>large</td><td>2</td></tr><tr><td>Germany</td><td>bar</td><td>5</td></tr><tr><td>Germany</td><td>beergarden</td><td>3</td></tr><tr><td>Singapore</td><td>bar</td><td>28</td></tr><tr><td>Singapore</td><td>brewpub</td><td>4</td></tr><tr><td>Singapore</td><td>large</td><td>1</td></tr><tr><td>Isle of Man</td><td>micro</td><td>2</td></tr><tr><td>Poland</td><td>brewpub</td><td>11</td></tr><tr><td>Poland</td><td>micro</td><td>20</td></tr><tr><td>Poland</td><td>regional</td><td>3</td></tr><tr><td>Austria</td><td>brewpub</td><td>1</td></tr><tr><td>Austria</td><td>nano</td><td>2</td></tr><tr><td>Austria</td><td>large</td><td>9</td></tr><tr><td>Austria</td><td>bar</td><td>2</td></tr><tr><td>United States</td><td>micro</td><td>4149</td></tr><tr><td>United States</td><td>nano</td><td>10</td></tr><tr><td>United States</td><td>bar</td><td>2</td></tr><tr><td>United States</td><td>contract</td><td>193</td></tr><tr><td>United States</td><td>brewpub</td><td>2399</td></tr><tr><td>United States</td><td>location</td><td>1</td></tr><tr><td>United States</td><td>planning</td><td>687</td></tr><tr><td>United States</td><td>closed</td><td>201</td></tr><tr><td>United States</td><td>large</td><td>74</td></tr><tr><td>United States</td><td>proprietor</td><td>69</td></tr><tr><td>United States</td><td>taproom</td><td>1</td></tr><tr><td>United States</td><td>regional</td><td>213</td></tr><tr><td>Scotland</td><td>micro</td><td>9</td></tr><tr><td>Scotland</td><td>closed</td><td>1</td></tr></tbody></table></div>"
      ]
     },
     "metadata": {
      "application/vnd.databricks.v1+output": {
       "addedWidgets": {},
       "aggData": [],
       "aggError": "",
       "aggOverflow": false,
       "aggSchema": [],
       "aggSeriesLimitReached": false,
       "aggType": "",
       "arguments": {},
       "columnCustomDisplayInfos": {},
       "data": [
        [
         "South Korea",
         "micro",
         5
        ],
        [
         "South Korea",
         "brewpub",
         56
        ],
        [
         "Sweden",
         "micro",
         6
        ],
        [
         "England",
         "large",
         1
        ],
        [
         "England",
         "taproom",
         11
        ],
        [
         "England",
         "micro",
         40
        ],
        [
         "England",
         "brewpub",
         10
        ],
        [
         "France",
         "micro",
         3
        ],
        [
         "Portugal",
         "brewpub",
         7
        ],
        [
         "Portugal",
         "micro",
         7
        ],
        [
         "Ireland",
         "brewpub",
         9
        ],
        [
         "Ireland",
         "large",
         3
        ],
        [
         "Ireland",
         "regional",
         9
        ],
        [
         "Ireland",
         "micro",
         49
        ],
        [
         "Germany",
         "large",
         2
        ],
        [
         "Germany",
         "bar",
         5
        ],
        [
         "Germany",
         "beergarden",
         3
        ],
        [
         "Singapore",
         "bar",
         28
        ],
        [
         "Singapore",
         "brewpub",
         4
        ],
        [
         "Singapore",
         "large",
         1
        ],
        [
         "Isle of Man",
         "micro",
         2
        ],
        [
         "Poland",
         "brewpub",
         11
        ],
        [
         "Poland",
         "micro",
         20
        ],
        [
         "Poland",
         "regional",
         3
        ],
        [
         "Austria",
         "brewpub",
         1
        ],
        [
         "Austria",
         "nano",
         2
        ],
        [
         "Austria",
         "large",
         9
        ],
        [
         "Austria",
         "bar",
         2
        ],
        [
         "United States",
         "micro",
         4149
        ],
        [
         "United States",
         "nano",
         10
        ],
        [
         "United States",
         "bar",
         2
        ],
        [
         "United States",
         "contract",
         193
        ],
        [
         "United States",
         "brewpub",
         2399
        ],
        [
         "United States",
         "location",
         1
        ],
        [
         "United States",
         "planning",
         687
        ],
        [
         "United States",
         "closed",
         201
        ],
        [
         "United States",
         "large",
         74
        ],
        [
         "United States",
         "proprietor",
         69
        ],
        [
         "United States",
         "taproom",
         1
        ],
        [
         "United States",
         "regional",
         213
        ],
        [
         "Scotland",
         "micro",
         9
        ],
        [
         "Scotland",
         "closed",
         1
        ]
       ],
       "datasetInfos": [],
       "dbfsResultPath": null,
       "isJsonSchema": true,
       "metadata": {},
       "overflow": false,
       "plotOptions": {
        "customPlotOptions": {},
        "displayType": "table",
        "pivotAggregation": null,
        "pivotColumns": null,
        "xColumns": null,
        "yColumns": null
       },
       "removedWidgets": [],
       "schema": [
        {
         "metadata": "{\"comment\":\"país\"}",
         "name": "country",
         "type": "\"string\""
        },
        {
         "metadata": "{\"comment\":\"tipo de cervejaria\"}",
         "name": "brewery_type",
         "type": "\"string\""
        },
        {
         "metadata": "{}",
         "name": "breweries_quantity",
         "type": "\"long\""
        }
       ],
       "type": "table"
      }
     },
     "output_type": "display_data"
    }
   ],
   "source": [
    "%sql\n",
    "SELECT * FROM view_breweries_agg"
   ]
  },
  {
   "cell_type": "code",
   "execution_count": 0,
   "metadata": {
    "application/vnd.databricks.v1+cell": {
     "cellMetadata": {
      "byteLimit": 2048000,
      "implicitDf": true,
      "rowLimit": 10000
     },
     "inputWidgets": {},
     "nuid": "996d40b1-6ce0-46a0-a4fd-180c3a156130",
     "showTitle": false,
     "title": ""
    }
   },
   "outputs": [
    {
     "output_type": "display_data",
     "data": {
      "text/html": [
       "<style scoped>\n",
       "  .table-result-container {\n",
       "    max-height: 300px;\n",
       "    overflow: auto;\n",
       "  }\n",
       "  table, th, td {\n",
       "    border: 1px solid black;\n",
       "    border-collapse: collapse;\n",
       "  }\n",
       "  th, td {\n",
       "    padding: 5px;\n",
       "  }\n",
       "  th {\n",
       "    text-align: left;\n",
       "  }\n",
       "</style><div class='table-result-container'><table class='table-result'><thead style='background-color: white'><tr><th>num_affected_rows</th><th>num_updated_rows</th><th>num_deleted_rows</th><th>num_inserted_rows</th></tr></thead><tbody><tr><td>42</td><td>0</td><td>0</td><td>42</td></tr></tbody></table></div>"
      ]
     },
     "metadata": {
      "application/vnd.databricks.v1+output": {
       "addedWidgets": {},
       "aggData": [],
       "aggError": "",
       "aggOverflow": false,
       "aggSchema": [],
       "aggSeriesLimitReached": false,
       "aggType": "",
       "arguments": {},
       "columnCustomDisplayInfos": {},
       "data": [
        [
         42,
         0,
         0,
         42
        ]
       ],
       "datasetInfos": [],
       "dbfsResultPath": null,
       "isJsonSchema": true,
       "metadata": {},
       "overflow": false,
       "plotOptions": {
        "customPlotOptions": {},
        "displayType": "table",
        "pivotAggregation": null,
        "pivotColumns": null,
        "xColumns": null,
        "yColumns": null
       },
       "removedWidgets": [],
       "schema": [
        {
         "metadata": "{}",
         "name": "num_affected_rows",
         "type": "\"long\""
        },
        {
         "metadata": "{}",
         "name": "num_updated_rows",
         "type": "\"long\""
        },
        {
         "metadata": "{}",
         "name": "num_deleted_rows",
         "type": "\"long\""
        },
        {
         "metadata": "{}",
         "name": "num_inserted_rows",
         "type": "\"long\""
        }
       ],
       "type": "table"
      }
     },
     "output_type": "display_data"
    }
   ],
   "source": [
    "%sql\n",
    "MERGE INTO tb_gold_breweries as TARGET\n",
    "USING view_breweries_agg as SOURCE\n",
    "ON TARGET.country = SOURCE.country\n",
    "AND TARGET.brewery_type = SOURCE.brewery_type\n",
    "WHEN MATCHED THEN\n",
    "  UPDATE SET  \n",
    "    breweries_quantity = source.breweries_quantity\n",
    "WHEN NOT MATCHED\n",
    "  THEN INSERT (\n",
    "    country,\n",
    "    brewery_type,\n",
    "    breweries_quantity    \n",
    "        )\n",
    "  VALUES (\n",
    "    SOURCE.country,\n",
    "    SOURCE.brewery_type,\n",
    "    SOURCE.breweries_quantity\n",
    "    )"
   ]
  },
  {
   "cell_type": "code",
   "execution_count": 0,
   "metadata": {
    "application/vnd.databricks.v1+cell": {
     "cellMetadata": {
      "byteLimit": 2048000,
      "rowLimit": 10000
     },
     "inputWidgets": {},
     "nuid": "a412a5cf-e53f-440f-a281-53c52283e735",
     "showTitle": false,
     "title": ""
    }
   },
   "outputs": [
    {
     "output_type": "display_data",
     "data": {
      "text/html": [
       "<style scoped>\n",
       "  .table-result-container {\n",
       "    max-height: 300px;\n",
       "    overflow: auto;\n",
       "  }\n",
       "  table, th, td {\n",
       "    border: 1px solid black;\n",
       "    border-collapse: collapse;\n",
       "  }\n",
       "  th, td {\n",
       "    padding: 5px;\n",
       "  }\n",
       "  th {\n",
       "    text-align: left;\n",
       "  }\n",
       "</style><div class='table-result-container'><table class='table-result'><thead style='background-color: white'><tr><th>country</th><th>brewery_type</th><th>breweries_quantity</th></tr></thead><tbody><tr><td>Portugal</td><td>brewpub</td><td>7</td></tr><tr><td>Portugal</td><td>micro</td><td>7</td></tr><tr><td>South Korea</td><td>micro</td><td>5</td></tr><tr><td>South Korea</td><td>brewpub</td><td>56</td></tr><tr><td>Sweden</td><td>micro</td><td>6</td></tr><tr><td>Ireland</td><td>brewpub</td><td>9</td></tr><tr><td>Ireland</td><td>large</td><td>3</td></tr><tr><td>Ireland</td><td>regional</td><td>9</td></tr><tr><td>Ireland</td><td>micro</td><td>49</td></tr><tr><td>Germany</td><td>large</td><td>2</td></tr><tr><td>Germany</td><td>bar</td><td>5</td></tr><tr><td>Germany</td><td>beergarden</td><td>3</td></tr><tr><td>United States</td><td>micro</td><td>4149</td></tr><tr><td>United States</td><td>nano</td><td>10</td></tr><tr><td>United States</td><td>bar</td><td>2</td></tr><tr><td>United States</td><td>contract</td><td>193</td></tr><tr><td>United States</td><td>brewpub</td><td>2399</td></tr><tr><td>United States</td><td>location</td><td>1</td></tr><tr><td>United States</td><td>planning</td><td>687</td></tr><tr><td>United States</td><td>closed</td><td>201</td></tr><tr><td>United States</td><td>large</td><td>74</td></tr><tr><td>United States</td><td>proprietor</td><td>69</td></tr><tr><td>United States</td><td>taproom</td><td>1</td></tr><tr><td>United States</td><td>regional</td><td>213</td></tr><tr><td>Scotland</td><td>micro</td><td>9</td></tr><tr><td>Scotland</td><td>closed</td><td>1</td></tr><tr><td>England</td><td>large</td><td>1</td></tr><tr><td>England</td><td>taproom</td><td>11</td></tr><tr><td>England</td><td>micro</td><td>40</td></tr><tr><td>England</td><td>brewpub</td><td>10</td></tr><tr><td>France</td><td>micro</td><td>3</td></tr><tr><td>Poland</td><td>brewpub</td><td>11</td></tr><tr><td>Poland</td><td>micro</td><td>20</td></tr><tr><td>Poland</td><td>regional</td><td>3</td></tr><tr><td>Austria</td><td>brewpub</td><td>1</td></tr><tr><td>Austria</td><td>nano</td><td>2</td></tr><tr><td>Austria</td><td>large</td><td>9</td></tr><tr><td>Austria</td><td>bar</td><td>2</td></tr><tr><td>Singapore</td><td>bar</td><td>28</td></tr><tr><td>Singapore</td><td>brewpub</td><td>4</td></tr><tr><td>Singapore</td><td>large</td><td>1</td></tr><tr><td>Isle of Man</td><td>micro</td><td>2</td></tr></tbody></table></div>"
      ]
     },
     "metadata": {
      "application/vnd.databricks.v1+output": {
       "addedWidgets": {},
       "aggData": [],
       "aggError": "",
       "aggOverflow": false,
       "aggSchema": [],
       "aggSeriesLimitReached": false,
       "aggType": "",
       "arguments": {},
       "columnCustomDisplayInfos": {},
       "data": [
        [
         "Portugal",
         "brewpub",
         7
        ],
        [
         "Portugal",
         "micro",
         7
        ],
        [
         "South Korea",
         "micro",
         5
        ],
        [
         "South Korea",
         "brewpub",
         56
        ],
        [
         "Sweden",
         "micro",
         6
        ],
        [
         "Ireland",
         "brewpub",
         9
        ],
        [
         "Ireland",
         "large",
         3
        ],
        [
         "Ireland",
         "regional",
         9
        ],
        [
         "Ireland",
         "micro",
         49
        ],
        [
         "Germany",
         "large",
         2
        ],
        [
         "Germany",
         "bar",
         5
        ],
        [
         "Germany",
         "beergarden",
         3
        ],
        [
         "United States",
         "micro",
         4149
        ],
        [
         "United States",
         "nano",
         10
        ],
        [
         "United States",
         "bar",
         2
        ],
        [
         "United States",
         "contract",
         193
        ],
        [
         "United States",
         "brewpub",
         2399
        ],
        [
         "United States",
         "location",
         1
        ],
        [
         "United States",
         "planning",
         687
        ],
        [
         "United States",
         "closed",
         201
        ],
        [
         "United States",
         "large",
         74
        ],
        [
         "United States",
         "proprietor",
         69
        ],
        [
         "United States",
         "taproom",
         1
        ],
        [
         "United States",
         "regional",
         213
        ],
        [
         "Scotland",
         "micro",
         9
        ],
        [
         "Scotland",
         "closed",
         1
        ],
        [
         "England",
         "large",
         1
        ],
        [
         "England",
         "taproom",
         11
        ],
        [
         "England",
         "micro",
         40
        ],
        [
         "England",
         "brewpub",
         10
        ],
        [
         "France",
         "micro",
         3
        ],
        [
         "Poland",
         "brewpub",
         11
        ],
        [
         "Poland",
         "micro",
         20
        ],
        [
         "Poland",
         "regional",
         3
        ],
        [
         "Austria",
         "brewpub",
         1
        ],
        [
         "Austria",
         "nano",
         2
        ],
        [
         "Austria",
         "large",
         9
        ],
        [
         "Austria",
         "bar",
         2
        ],
        [
         "Singapore",
         "bar",
         28
        ],
        [
         "Singapore",
         "brewpub",
         4
        ],
        [
         "Singapore",
         "large",
         1
        ],
        [
         "Isle of Man",
         "micro",
         2
        ]
       ],
       "datasetInfos": [],
       "dbfsResultPath": null,
       "isJsonSchema": true,
       "metadata": {},
       "overflow": false,
       "plotOptions": {
        "customPlotOptions": {},
        "displayType": "table",
        "pivotAggregation": null,
        "pivotColumns": null,
        "xColumns": null,
        "yColumns": null
       },
       "removedWidgets": [],
       "schema": [
        {
         "metadata": "{\"comment\":\"país\"}",
         "name": "country",
         "type": "\"string\""
        },
        {
         "metadata": "{\"comment\":\"tipo de cervejaria\"}",
         "name": "brewery_type",
         "type": "\"string\""
        },
        {
         "metadata": "{\"comment\":\"quantidade de cervejarias\"}",
         "name": "breweries_quantity",
         "type": "\"integer\""
        }
       ],
       "type": "table"
      }
     },
     "output_type": "display_data"
    }
   ],
   "source": [
    "spark.read.table('tb_gold_breweries').display()"
   ]
  }
 ],
 "metadata": {
  "application/vnd.databricks.v1+notebook": {
   "dashboards": [],
   "environmentMetadata": null,
   "language": "python",
   "notebookMetadata": {
    "mostRecentlyExecutedCommandWithImplicitDF": {
     "commandId": 3198753847013470,
     "dataframes": [
      "_sqldf"
     ]
    },
    "pythonIndentUnit": 4
   },
   "notebookName": "gold",
   "widgets": {}
  }
 },
 "nbformat": 4,
 "nbformat_minor": 0
}
