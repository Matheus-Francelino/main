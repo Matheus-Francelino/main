{
 "cells": [
  {
   "cell_type": "markdown",
   "metadata": {
    "application/vnd.databricks.v1+cell": {
     "cellMetadata": {},
     "inputWidgets": {},
     "nuid": "6f0382fb-89e9-454c-92b7-0df05402e87e",
     "showTitle": false,
     "title": ""
    }
   },
   "source": [
    "## **Bibliotecas**"
   ]
  },
  {
   "cell_type": "code",
   "execution_count": 0,
   "metadata": {
    "application/vnd.databricks.v1+cell": {
     "cellMetadata": {
      "byteLimit": 2048000,
      "rowLimit": 10000
     },
     "inputWidgets": {},
     "nuid": "1c7f158b-9327-4c33-9b4c-aed9c5418299",
     "showTitle": false,
     "title": ""
    }
   },
   "outputs": [],
   "source": [
    "from pyspark.sql.functions import *\n",
    "from pyspark.sql.types import *\n",
    "from datetime import datetime"
   ]
  },
  {
   "cell_type": "markdown",
   "metadata": {
    "application/vnd.databricks.v1+cell": {
     "cellMetadata": {},
     "inputWidgets": {},
     "nuid": "2ad6ae1e-508b-430a-b76b-f511a183a9b6",
     "showTitle": false,
     "title": ""
    }
   },
   "source": [
    "## **Funções**"
   ]
  },
  {
   "cell_type": "code",
   "execution_count": 0,
   "metadata": {
    "application/vnd.databricks.v1+cell": {
     "cellMetadata": {
      "byteLimit": 2048000,
      "rowLimit": 10000
     },
     "inputWidgets": {},
     "nuid": "6977f841-94d5-48d3-a292-895459095e03",
     "showTitle": false,
     "title": ""
    }
   },
   "outputs": [],
   "source": [
    "%run ./functions"
   ]
  },
  {
   "cell_type": "markdown",
   "metadata": {
    "application/vnd.databricks.v1+cell": {
     "cellMetadata": {},
     "inputWidgets": {},
     "nuid": "76db1220-237e-4cd7-b4d5-d48a8efd1155",
     "showTitle": false,
     "title": ""
    }
   },
   "source": [
    "## **Parâmetros**"
   ]
  },
  {
   "cell_type": "code",
   "execution_count": 0,
   "metadata": {
    "application/vnd.databricks.v1+cell": {
     "cellMetadata": {
      "byteLimit": 2048000,
      "rowLimit": 10000
     },
     "inputWidgets": {},
     "nuid": "10f47f11-2f48-4de7-9a92-7a00b4ad6cd3",
     "showTitle": false,
     "title": ""
    }
   },
   "outputs": [],
   "source": [
    "bronze_path = f'{lake_path}/bronze/tb_bronze_breweries'"
   ]
  },
  {
   "cell_type": "markdown",
   "metadata": {
    "application/vnd.databricks.v1+cell": {
     "cellMetadata": {},
     "inputWidgets": {},
     "nuid": "aac50c44-4af1-4aba-bcce-91b8559bfeca",
     "showTitle": false,
     "title": ""
    }
   },
   "source": [
    "## **Tratamento**"
   ]
  },
  {
   "cell_type": "code",
   "execution_count": 0,
   "metadata": {
    "application/vnd.databricks.v1+cell": {
     "cellMetadata": {
      "byteLimit": 2048000,
      "rowLimit": 10000
     },
     "inputWidgets": {},
     "nuid": "cf4b3198-6d96-41ac-a6a7-44bbad21ddcc",
     "showTitle": false,
     "title": ""
    }
   },
   "outputs": [],
   "source": [
    "# Leitura da Tabela Bronze \n",
    "df_breweries = (spark.read.format('delta').load(bronze_path))"
   ]
  },
  {
   "cell_type": "code",
   "execution_count": 0,
   "metadata": {
    "application/vnd.databricks.v1+cell": {
     "cellMetadata": {
      "byteLimit": 2048000,
      "rowLimit": 10000
     },
     "inputWidgets": {},
     "nuid": "1f3a2d5c-a04d-4b5e-a99a-1a1ddb257c8c",
     "showTitle": false,
     "title": ""
    }
   },
   "outputs": [
    {
     "output_type": "display_data",
     "data": {
      "text/html": [
       "<style scoped>\n",
       "  .table-result-container {\n",
       "    max-height: 300px;\n",
       "    overflow: auto;\n",
       "  }\n",
       "  table, th, td {\n",
       "    border: 1px solid black;\n",
       "    border-collapse: collapse;\n",
       "  }\n",
       "  th, td {\n",
       "    padding: 5px;\n",
       "  }\n",
       "  th {\n",
       "    text-align: left;\n",
       "  }\n",
       "</style><div class='table-result-container'><table class='table-result'><thead style='background-color: white'><tr><th>country</th></tr></thead><tbody><tr><td>Sweden</td></tr><tr><td>Singapore</td></tr><tr><td>United States</td></tr><tr><td>Ireland</td></tr><tr><td>Portugal</td></tr><tr><td>Austria</td></tr><tr><td>England</td></tr><tr><td>Germany</td></tr><tr><td>Poland</td></tr><tr><td>Scotland</td></tr><tr><td>South Korea</td></tr><tr><td>Isle of Man</td></tr><tr><td>France</td></tr><tr><td> United States</td></tr></tbody></table></div>"
      ]
     },
     "metadata": {
      "application/vnd.databricks.v1+output": {
       "addedWidgets": {},
       "aggData": [],
       "aggError": "",
       "aggOverflow": false,
       "aggSchema": [],
       "aggSeriesLimitReached": false,
       "aggType": "",
       "arguments": {},
       "columnCustomDisplayInfos": {},
       "data": [
        [
         "Sweden"
        ],
        [
         "Singapore"
        ],
        [
         "United States"
        ],
        [
         "Ireland"
        ],
        [
         "Portugal"
        ],
        [
         "Austria"
        ],
        [
         "England"
        ],
        [
         "Germany"
        ],
        [
         "Poland"
        ],
        [
         "Scotland"
        ],
        [
         "South Korea"
        ],
        [
         "Isle of Man"
        ],
        [
         "France"
        ],
        [
         " United States"
        ]
       ],
       "datasetInfos": [],
       "dbfsResultPath": null,
       "isJsonSchema": true,
       "metadata": {},
       "overflow": false,
       "plotOptions": {
        "customPlotOptions": {},
        "displayType": "table",
        "pivotAggregation": null,
        "pivotColumns": null,
        "xColumns": null,
        "yColumns": null
       },
       "removedWidgets": [],
       "schema": [
        {
         "metadata": "{}",
         "name": "country",
         "type": "\"string\""
        }
       ],
       "type": "table"
      }
     },
     "output_type": "display_data"
    }
   ],
   "source": [
    "df_breweries.select('country').distinct().display()"
   ]
  },
  {
   "cell_type": "markdown",
   "metadata": {
    "application/vnd.databricks.v1+cell": {
     "cellMetadata": {},
     "inputWidgets": {},
     "nuid": "7e55dcb8-c9db-44dc-97fb-3620a0567ae3",
     "showTitle": false,
     "title": ""
    }
   },
   "source": [
    "Nota-se que United States apresenta uma duplicidade devido a um espaço adicionado no início da string"
   ]
  },
  {
   "cell_type": "code",
   "execution_count": 0,
   "metadata": {
    "application/vnd.databricks.v1+cell": {
     "cellMetadata": {
      "byteLimit": 2048000,
      "rowLimit": 10000
     },
     "inputWidgets": {},
     "nuid": "e03bf602-1940-41dc-bcff-3ccb2d2d9c5f",
     "showTitle": false,
     "title": ""
    }
   },
   "outputs": [],
   "source": [
    "df_breweries = df_breweries.withColumn('country', trim(col('country')))"
   ]
  },
  {
   "cell_type": "code",
   "execution_count": 0,
   "metadata": {
    "application/vnd.databricks.v1+cell": {
     "cellMetadata": {
      "byteLimit": 2048000,
      "rowLimit": 10000
     },
     "inputWidgets": {},
     "nuid": "141c9e50-409d-4e78-8f90-c541bf1d82e7",
     "showTitle": false,
     "title": ""
    }
   },
   "outputs": [
    {
     "output_type": "display_data",
     "data": {
      "text/html": [
       "<style scoped>\n",
       "  .table-result-container {\n",
       "    max-height: 300px;\n",
       "    overflow: auto;\n",
       "  }\n",
       "  table, th, td {\n",
       "    border: 1px solid black;\n",
       "    border-collapse: collapse;\n",
       "  }\n",
       "  th, td {\n",
       "    padding: 5px;\n",
       "  }\n",
       "  th {\n",
       "    text-align: left;\n",
       "  }\n",
       "</style><div class='table-result-container'><table class='table-result'><thead style='background-color: white'><tr><th>country</th></tr></thead><tbody><tr><td>Germany</td></tr><tr><td>France</td></tr><tr><td>United States</td></tr><tr><td>Ireland</td></tr><tr><td>South Korea</td></tr><tr><td>Portugal</td></tr><tr><td>Austria</td></tr><tr><td>England</td></tr><tr><td>Scotland</td></tr><tr><td>Sweden</td></tr><tr><td>Singapore</td></tr><tr><td>Poland</td></tr><tr><td>Isle of Man</td></tr></tbody></table></div>"
      ]
     },
     "metadata": {
      "application/vnd.databricks.v1+output": {
       "addedWidgets": {},
       "aggData": [],
       "aggError": "",
       "aggOverflow": false,
       "aggSchema": [],
       "aggSeriesLimitReached": false,
       "aggType": "",
       "arguments": {},
       "columnCustomDisplayInfos": {},
       "data": [
        [
         "Germany"
        ],
        [
         "France"
        ],
        [
         "United States"
        ],
        [
         "Ireland"
        ],
        [
         "South Korea"
        ],
        [
         "Portugal"
        ],
        [
         "Austria"
        ],
        [
         "England"
        ],
        [
         "Scotland"
        ],
        [
         "Sweden"
        ],
        [
         "Singapore"
        ],
        [
         "Poland"
        ],
        [
         "Isle of Man"
        ]
       ],
       "datasetInfos": [],
       "dbfsResultPath": null,
       "isJsonSchema": true,
       "metadata": {},
       "overflow": false,
       "plotOptions": {
        "customPlotOptions": {},
        "displayType": "table",
        "pivotAggregation": null,
        "pivotColumns": null,
        "xColumns": null,
        "yColumns": null
       },
       "removedWidgets": [],
       "schema": [
        {
         "metadata": "{}",
         "name": "country",
         "type": "\"string\""
        }
       ],
       "type": "table"
      }
     },
     "output_type": "display_data"
    }
   ],
   "source": [
    "df_breweries.select('country').distinct().display()"
   ]
  },
  {
   "cell_type": "code",
   "execution_count": 0,
   "metadata": {
    "application/vnd.databricks.v1+cell": {
     "cellMetadata": {
      "byteLimit": 2048000,
      "rowLimit": 10000
     },
     "inputWidgets": {},
     "nuid": "41938125-060e-4f82-8368-5e0b61ec2b2d",
     "showTitle": false,
     "title": ""
    }
   },
   "outputs": [],
   "source": [
    "# VALIDAÇÃO DA UNICIDADE DAS CHAVES\n",
    "key_validation(dataframe=df_breweries, chave='id')\n",
    "df_breweries_final = df_breweries"
   ]
  },
  {
   "cell_type": "code",
   "execution_count": 0,
   "metadata": {
    "application/vnd.databricks.v1+cell": {
     "cellMetadata": {
      "byteLimit": 2048000,
      "rowLimit": 10000
     },
     "inputWidgets": {},
     "nuid": "0a966d5a-df16-4582-82cc-21ed9288bae3",
     "showTitle": false,
     "title": ""
    }
   },
   "outputs": [
    {
     "output_type": "display_data",
     "data": {
      "text/html": [
       "<style scoped>\n",
       "  .table-result-container {\n",
       "    max-height: 300px;\n",
       "    overflow: auto;\n",
       "  }\n",
       "  table, th, td {\n",
       "    border: 1px solid black;\n",
       "    border-collapse: collapse;\n",
       "  }\n",
       "  th, td {\n",
       "    padding: 5px;\n",
       "  }\n",
       "  th {\n",
       "    text-align: left;\n",
       "  }\n",
       "</style><div class='table-result-container'><table class='table-result'><thead style='background-color: white'><tr><th>address_1</th><th>address_2</th><th>address_3</th><th>brewery_type</th><th>city</th><th>country</th><th>id</th><th>latitude</th><th>longitude</th><th>name</th><th>phone</th><th>postal_code</th><th>state</th><th>state_province</th><th>street</th><th>website_url</th><th>tmstp_ingestion</th></tr></thead><tbody><tr><td>1716 Topeka St</td><td>null</td><td>null</td><td>micro</td><td>Norman</td><td>United States</td><td>5128df48-79fc-4f0f-8b52-d06be54d0cec</td><td>35.25738891</td><td>-97.46818222</td><td>(405) Brewing Co</td><td>4058160490</td><td>73069-8224</td><td>Oklahoma</td><td>Oklahoma</td><td>1716 Topeka St</td><td>http://www.405brewing.com</td><td>2024-09-26T20:39:35.532+0000</td></tr><tr><td>407 Radam Ln Ste F200</td><td>null</td><td>null</td><td>micro</td><td>Austin</td><td>United States</td><td>9c5a66c8-cc13-416f-a5d9-0a769c87d318</td><td>null</td><td>null</td><td>(512) Brewing Co</td><td>5129211545</td><td>78745-1197</td><td>Texas</td><td>Texas</td><td>407 Radam Ln Ste F200</td><td>http://www.512brewing.com</td><td>2024-09-26T20:39:35.532+0000</td></tr><tr><td>8100 Washington Ave</td><td>null</td><td>null</td><td>micro</td><td>Mount Pleasant</td><td>United States</td><td>34e8c68b-6146-453f-a4b9-1f6cd99a5ada</td><td>42.72010826899558</td><td>-87.88336350209435</td><td>1 of Us Brewing Company</td><td>2624847553</td><td>53406-3920</td><td>Wisconsin</td><td>Wisconsin</td><td>8100 Washington Ave</td><td>https://www.1ofusbrewing.com</td><td>2024-09-26T20:39:35.532+0000</td></tr><tr><td>1501 E St</td><td>null</td><td>null</td><td>large</td><td>San Diego</td><td>United States</td><td>ef970757-fe42-416f-931d-722451f1f59c</td><td>32.714813</td><td>-117.129593</td><td>10 Barrel Brewing Co</td><td>6195782311</td><td>92101-6618</td><td>California</td><td>California</td><td>1501 E St</td><td>http://10barrel.com</td><td>2024-09-26T20:39:35.532+0000</td></tr><tr><td>62970 18th St</td><td>null</td><td>null</td><td>large</td><td>Bend</td><td>United States</td><td>6d14b220-8926-4521-8d19-b98a2d6ec3db</td><td>44.08683531</td><td>-121.281706</td><td>10 Barrel Brewing Co</td><td>5415851007</td><td>97701-9847</td><td>Oregon</td><td>Oregon</td><td>62970 18th St</td><td>http://www.10barrel.com</td><td>2024-09-26T20:39:35.532+0000</td></tr></tbody></table></div>"
      ]
     },
     "metadata": {
      "application/vnd.databricks.v1+output": {
       "addedWidgets": {},
       "aggData": [],
       "aggError": "",
       "aggOverflow": false,
       "aggSchema": [],
       "aggSeriesLimitReached": false,
       "aggType": "",
       "arguments": {},
       "columnCustomDisplayInfos": {},
       "data": [
        [
         "1716 Topeka St",
         null,
         null,
         "micro",
         "Norman",
         "United States",
         "5128df48-79fc-4f0f-8b52-d06be54d0cec",
         "35.25738891",
         "-97.46818222",
         "(405) Brewing Co",
         "4058160490",
         "73069-8224",
         "Oklahoma",
         "Oklahoma",
         "1716 Topeka St",
         "http://www.405brewing.com",
         "2024-09-26T20:39:35.532+0000"
        ],
        [
         "407 Radam Ln Ste F200",
         null,
         null,
         "micro",
         "Austin",
         "United States",
         "9c5a66c8-cc13-416f-a5d9-0a769c87d318",
         null,
         null,
         "(512) Brewing Co",
         "5129211545",
         "78745-1197",
         "Texas",
         "Texas",
         "407 Radam Ln Ste F200",
         "http://www.512brewing.com",
         "2024-09-26T20:39:35.532+0000"
        ],
        [
         "8100 Washington Ave",
         null,
         null,
         "micro",
         "Mount Pleasant",
         "United States",
         "34e8c68b-6146-453f-a4b9-1f6cd99a5ada",
         "42.72010826899558",
         "-87.88336350209435",
         "1 of Us Brewing Company",
         "2624847553",
         "53406-3920",
         "Wisconsin",
         "Wisconsin",
         "8100 Washington Ave",
         "https://www.1ofusbrewing.com",
         "2024-09-26T20:39:35.532+0000"
        ],
        [
         "1501 E St",
         null,
         null,
         "large",
         "San Diego",
         "United States",
         "ef970757-fe42-416f-931d-722451f1f59c",
         "32.714813",
         "-117.129593",
         "10 Barrel Brewing Co",
         "6195782311",
         "92101-6618",
         "California",
         "California",
         "1501 E St",
         "http://10barrel.com",
         "2024-09-26T20:39:35.532+0000"
        ],
        [
         "62970 18th St",
         null,
         null,
         "large",
         "Bend",
         "United States",
         "6d14b220-8926-4521-8d19-b98a2d6ec3db",
         "44.08683531",
         "-121.281706",
         "10 Barrel Brewing Co",
         "5415851007",
         "97701-9847",
         "Oregon",
         "Oregon",
         "62970 18th St",
         "http://www.10barrel.com",
         "2024-09-26T20:39:35.532+0000"
        ]
       ],
       "datasetInfos": [],
       "dbfsResultPath": null,
       "isJsonSchema": true,
       "metadata": {},
       "overflow": false,
       "plotOptions": {
        "customPlotOptions": {},
        "displayType": "table",
        "pivotAggregation": null,
        "pivotColumns": null,
        "xColumns": null,
        "yColumns": null
       },
       "removedWidgets": [],
       "schema": [
        {
         "metadata": "{}",
         "name": "address_1",
         "type": "\"string\""
        },
        {
         "metadata": "{}",
         "name": "address_2",
         "type": "\"string\""
        },
        {
         "metadata": "{}",
         "name": "address_3",
         "type": "\"string\""
        },
        {
         "metadata": "{}",
         "name": "brewery_type",
         "type": "\"string\""
        },
        {
         "metadata": "{}",
         "name": "city",
         "type": "\"string\""
        },
        {
         "metadata": "{}",
         "name": "country",
         "type": "\"string\""
        },
        {
         "metadata": "{}",
         "name": "id",
         "type": "\"string\""
        },
        {
         "metadata": "{}",
         "name": "latitude",
         "type": "\"string\""
        },
        {
         "metadata": "{}",
         "name": "longitude",
         "type": "\"string\""
        },
        {
         "metadata": "{}",
         "name": "name",
         "type": "\"string\""
        },
        {
         "metadata": "{}",
         "name": "phone",
         "type": "\"string\""
        },
        {
         "metadata": "{}",
         "name": "postal_code",
         "type": "\"string\""
        },
        {
         "metadata": "{}",
         "name": "state",
         "type": "\"string\""
        },
        {
         "metadata": "{}",
         "name": "state_province",
         "type": "\"string\""
        },
        {
         "metadata": "{}",
         "name": "street",
         "type": "\"string\""
        },
        {
         "metadata": "{}",
         "name": "website_url",
         "type": "\"string\""
        },
        {
         "metadata": "{}",
         "name": "tmstp_ingestion",
         "type": "\"timestamp\""
        }
       ],
       "type": "table"
      }
     },
     "output_type": "display_data"
    }
   ],
   "source": [
    "display(df_breweries_final.limit(5))"
   ]
  },
  {
   "cell_type": "markdown",
   "metadata": {
    "application/vnd.databricks.v1+cell": {
     "cellMetadata": {},
     "inputWidgets": {},
     "nuid": "9848b094-ce86-405e-a2b9-2f49d27a3730",
     "showTitle": false,
     "title": ""
    }
   },
   "source": [
    "## **Upsert na Tabela**"
   ]
  },
  {
   "cell_type": "code",
   "execution_count": 0,
   "metadata": {
    "application/vnd.databricks.v1+cell": {
     "cellMetadata": {
      "byteLimit": 2048000,
      "rowLimit": 10000
     },
     "inputWidgets": {},
     "nuid": "bc4e6937-7554-42da-9111-3ecb16d17a55",
     "showTitle": false,
     "title": ""
    }
   },
   "outputs": [],
   "source": [
    "# Criação da View para processo de Upsert\n",
    "df_breweries_final.createOrReplaceTempView('source_view_breweries')"
   ]
  },
  {
   "cell_type": "code",
   "execution_count": 0,
   "metadata": {
    "application/vnd.databricks.v1+cell": {
     "cellMetadata": {
      "byteLimit": 2048000,
      "implicitDf": true,
      "rowLimit": 10000
     },
     "inputWidgets": {},
     "nuid": "74f7b411-5930-4d9c-9715-9322855c3ec0",
     "showTitle": false,
     "title": ""
    }
   },
   "outputs": [
    {
     "output_type": "display_data",
     "data": {
      "text/html": [
       "<style scoped>\n",
       "  .table-result-container {\n",
       "    max-height: 300px;\n",
       "    overflow: auto;\n",
       "  }\n",
       "  table, th, td {\n",
       "    border: 1px solid black;\n",
       "    border-collapse: collapse;\n",
       "  }\n",
       "  th, td {\n",
       "    padding: 5px;\n",
       "  }\n",
       "  th {\n",
       "    text-align: left;\n",
       "  }\n",
       "</style><div class='table-result-container'><table class='table-result'><thead style='background-color: white'><tr><th>num_affected_rows</th><th>num_updated_rows</th><th>num_deleted_rows</th><th>num_inserted_rows</th></tr></thead><tbody><tr><td>8318</td><td>0</td><td>0</td><td>8318</td></tr></tbody></table></div>"
      ]
     },
     "metadata": {
      "application/vnd.databricks.v1+output": {
       "addedWidgets": {},
       "aggData": [],
       "aggError": "",
       "aggOverflow": false,
       "aggSchema": [],
       "aggSeriesLimitReached": false,
       "aggType": "",
       "arguments": {},
       "columnCustomDisplayInfos": {},
       "data": [
        [
         8318,
         0,
         0,
         8318
        ]
       ],
       "datasetInfos": [],
       "dbfsResultPath": null,
       "isJsonSchema": true,
       "metadata": {},
       "overflow": false,
       "plotOptions": {
        "customPlotOptions": {},
        "displayType": "table",
        "pivotAggregation": null,
        "pivotColumns": null,
        "xColumns": null,
        "yColumns": null
       },
       "removedWidgets": [],
       "schema": [
        {
         "metadata": "{}",
         "name": "num_affected_rows",
         "type": "\"long\""
        },
        {
         "metadata": "{}",
         "name": "num_updated_rows",
         "type": "\"long\""
        },
        {
         "metadata": "{}",
         "name": "num_deleted_rows",
         "type": "\"long\""
        },
        {
         "metadata": "{}",
         "name": "num_inserted_rows",
         "type": "\"long\""
        }
       ],
       "type": "table"
      }
     },
     "output_type": "display_data"
    }
   ],
   "source": [
    "%sql\n",
    "MERGE INTO tb_silver_breweries as TARGET\n",
    "USING source_view_breweries as SOURCE\n",
    "ON TARGET.id = SOURCE.id\n",
    "WHEN MATCHED THEN\n",
    "  UPDATE SET  \n",
    "    address_1 = source.address_1,\n",
    "    address_2 = source.address_2,\n",
    "    address_3 = source.address_3,\n",
    "    brewery_type = source.brewery_type,\n",
    "    city = source.city,\n",
    "    country = source.country,\n",
    "    latitude = source.latitude,\n",
    "    longitude = source.longitude,\n",
    "    name = source.name,\n",
    "    phone = source.phone,\n",
    "    postal_code = source.postal_code,\n",
    "    state = source.state,\n",
    "    state_province = source.state_province,\n",
    "    street = source.street,\n",
    "    website_url = source.website_url,\n",
    "    tmstp_ingestion = source.tmstp_ingestion  \n",
    "WHEN NOT MATCHED\n",
    "  THEN INSERT (\n",
    "    id,\n",
    "    address_1,\n",
    "    address_2,\n",
    "    address_3,\n",
    "    brewery_type,\n",
    "    city,\n",
    "    country,\n",
    "    latitude,\n",
    "    longitude,\n",
    "    name,\n",
    "    phone,\n",
    "    postal_code,\n",
    "    state,\n",
    "    state_province,\n",
    "    street,\n",
    "    website_url,\n",
    "    tmstp_ingestion    \n",
    "        )\n",
    "  VALUES (\n",
    "    SOURCE.id,\n",
    "    SOURCE.address_1,\n",
    "    SOURCE.address_2,\n",
    "    SOURCE.address_3,\n",
    "    SOURCE.brewery_type,\n",
    "    SOURCE.city,\n",
    "    SOURCE.country,\n",
    "    SOURCE.latitude,\n",
    "    SOURCE.longitude,\n",
    "    SOURCE.name,\n",
    "    SOURCE.phone,\n",
    "    SOURCE.postal_code,\n",
    "    SOURCE.state,\n",
    "    SOURCE.state_province,\n",
    "    SOURCE.street,\n",
    "    SOURCE.website_url,\n",
    "    SOURCE.tmstp_ingestion  \n",
    "    )"
   ]
  }
 ],
 "metadata": {
  "application/vnd.databricks.v1+notebook": {
   "dashboards": [],
   "environmentMetadata": null,
   "language": "python",
   "notebookMetadata": {
    "mostRecentlyExecutedCommandWithImplicitDF": {
     "commandId": 3198753846997753,
     "dataframes": [
      "_sqldf"
     ]
    },
    "pythonIndentUnit": 4
   },
   "notebookName": "silver",
   "widgets": {}
  }
 },
 "nbformat": 4,
 "nbformat_minor": 0
}
